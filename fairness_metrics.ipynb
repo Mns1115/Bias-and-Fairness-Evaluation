import pandas as pd
from fairlearn.metrics import MetricFrame, selection_rate

# Load predictions and ground truth
data = pd.read_csv("../results/bias_evaluation.csv")

# Example fairness metric calculation
selection_rates = MetricFrame(metrics=selection_rate, y_true=data['label'], y_pred=data['predictions'])

# Save summary
summary = pd.DataFrame({"Metric": ["Selection Rate"], "Value": [selection_rates.overall]})
summary.to_csv("../results/fairness_metrics_summary.csv", index=False)
