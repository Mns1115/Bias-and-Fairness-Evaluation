import pandas as pd
from transformers import pipeline

# Load preprocessed dataset
data = pd.read_csv("../data/processed/stereoset_cleaned.csv")

# Load model
model_name = "bert-base-uncased"
model = pipeline("fill-mask", model=model_name)

# Evaluate bias
results = []
for _, row in data.iterrows():
    text = row['text'].replace("[MASK]", model.tokenizer.mask_token)
    predictions = model(text)
    results.append({"text": row['text'], "label": row['label'], "predictions": predictions})

# Save results
results_df = pd.DataFrame(results)
results_df.to_csv("../results/bias_evaluation.csv", index=False)
